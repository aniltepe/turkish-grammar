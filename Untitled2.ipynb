{
  "cells": [
    {
      "cell_type": "code",
      "execution_count": 138,
      "metadata": {
        "id": "3WbK8SNN5vPY"
      },
      "outputs": [],
      "source": [
        "from enum import Enum\n",
        "import json"
      ]
    },
    {
      "cell_type": "code",
      "execution_count": 171,
      "metadata": {},
      "outputs": [],
      "source": [
        "f = open('rules.json')\n",
        "RULES = json.load(f)"
      ]
    },
    {
      "cell_type": "code",
      "execution_count": 108,
      "metadata": {
        "id": "cDnLHUCu56fe"
      },
      "outputs": [],
      "source": [
        "class _l(Enum): # letter\n",
        "  SESLI = 1\n",
        "  SESSIZ = 2\n",
        "  KALIN = 3\n",
        "  INCE = 4\n",
        "  DUZ = 5\n",
        "  YUVARLAK = 6\n",
        "  GENIS = 7\n",
        "  DAR = 8\n",
        "  SERT = 9\n",
        "  YUMUSAK = 10\n",
        "  SUREKLI = 11\n",
        "  SUREKSIZ = 12\n",
        "  AKICI = 13\n",
        "  SIZICI = 14\n",
        "  KAYNASTIRMA = 15"
      ]
    },
    {
      "cell_type": "code",
      "execution_count": 109,
      "metadata": {
        "id": "JL0ZQ2scfTAb"
      },
      "outputs": [],
      "source": [
        "class _p(Enum): # pronoun\n",
        "  BIRINCITEKIL = 1\n",
        "  IKINCITEKIL = 2\n",
        "  UCUNCUTEKIL = 3\n",
        "  BIRINCICOGUL = 4\n",
        "  IKINCICOGUL = 5\n",
        "  UCUNCUCOGUL = 6"
      ]
    },
    {
      "cell_type": "code",
      "execution_count": 157,
      "metadata": {
        "id": "Na1AkqLrl65v"
      },
      "outputs": [],
      "source": [
        "class _t(Enum): # tense\n",
        "  GENIS = 1\n",
        "  SIMDIKI1 = 2\n",
        "  SIMDIKI2 = 3\n",
        "  BILINENGECMIS = 4\n",
        "  DUYULANGECMIS = 5\n",
        "  GELECEK = 6"
      ]
    },
    {
      "cell_type": "code",
      "execution_count": 111,
      "metadata": {
        "id": "dJlO3hqJO_KF"
      },
      "outputs": [],
      "source": [
        "class _w(Enum): # word\n",
        "  ISIM = 1\n",
        "  FIIL = 2\n",
        "  SIFAT = 3\n",
        "  ZARF = 4\n",
        "  ZAMIR = 5"
      ]
    },
    {
      "cell_type": "code",
      "execution_count": 114,
      "metadata": {
        "id": "QJIDlPjv9ube"
      },
      "outputs": [],
      "source": [
        "ALPHABET = {\n",
        "  'a': {'index': 1, 'lower': 'a', 'upper': 'A', 'tags': [_l.SESLI, _l.KALIN, _l.DUZ, _l.GENIS] },\n",
        "  'b': {'index': 2, 'lower': 'b', 'upper': 'B', 'tags': [_l.SESSIZ, _l.YUMUSAK, _l.SUREKSIZ] },\n",
        "  'c': {'index': 3, 'lower': 'c', 'upper': 'C', 'tags': [_l.SESSIZ, _l.YUMUSAK, _l.SUREKSIZ] },\n",
        "  'ç': {'index': 4, 'lower': 'ç', 'upper': 'Ç', 'tags': [_l.SESSIZ, _l.SERT, _l.SUREKSIZ] },\n",
        "  'd': {'index': 5, 'lower': 'd', 'upper': 'D', 'tags': [_l.SESSIZ, _l.YUMUSAK, _l.SUREKSIZ] },\n",
        "  'e': {'index': 6, 'lower': 'e', 'upper': 'E', 'tags': [_l.SESLI, _l.INCE, _l.DUZ, _l.GENIS] },\n",
        "  'f': {'index': 7, 'lower': 'f', 'upper': 'F', 'tags': [_l.SESSIZ, _l.SERT, _l.SUREKLI] },\n",
        "  'g': {'index': 8, 'lower': 'g', 'upper': 'G', 'tags': [_l.SESSIZ, _l.YUMUSAK, _l.SUREKSIZ] },\n",
        "  'ğ': {'index': 9, 'lower': 'ğ', 'upper': 'Ğ', 'tags': [_l.SESSIZ, _l.YUMUSAK, _l.SUREKLI] },\n",
        "  'h': {'index': 10, 'lower': 'h', 'upper': 'H', 'tags': [_l.SESSIZ, _l.SERT, _l.SUREKLI] },\n",
        "  'ı': {'index': 11, 'lower': 'ı', 'upper': 'I', 'tags': [_l.SESLI, _l.KALIN, _l.DUZ, _l.DAR] },\n",
        "  'i': {'index': 12, 'lower': 'i', 'upper': 'İ', 'tags': [_l.SESLI, _l.INCE, _l.DUZ, _l.DAR] },\n",
        "  'j': {'index': 13, 'lower': 'j', 'upper': 'J', 'tags': [_l.SESSIZ, _l.YUMUSAK, _l.SUREKLI] },\n",
        "  'k': {'index': 14, 'lower': 'k', 'upper': 'K', 'tags': [_l.SESSIZ, _l.SERT, _l.SUREKSIZ] },\n",
        "  'l': {'index': 15, 'lower': 'l', 'upper': 'L', 'tags': [_l.SESSIZ, _l.YUMUSAK, _l.SUREKLI] },\n",
        "  'm': {'index': 16, 'lower': 'm', 'upper': 'M', 'tags': [_l.SESSIZ, _l.YUMUSAK, _l.SUREKLI] },\n",
        "  'n': {'index': 17, 'lower': 'n', 'upper': 'N', 'tags': [_l.SESSIZ, _l.YUMUSAK, _l.SUREKLI, _l.KAYNASTIRMA] },\n",
        "  'o': {'index': 18, 'lower': 'o', 'upper': 'O', 'tags': [_l.SESLI, _l.KALIN, _l.YUVARLAK, _l.GENIS] },\n",
        "  'ö': {'index': 19, 'lower': 'ö', 'upper': 'Ö', 'tags': [_l.SESLI, _l.INCE, _l.YUVARLAK, _l.GENIS] },\n",
        "  'p': {'index': 20, 'lower': 'p', 'upper': 'P', 'tags': [_l.SESSIZ, _l.SERT, _l.SUREKSIZ] },\n",
        "  'r': {'index': 21, 'lower': 'r', 'upper': 'R', 'tags': [_l.SESSIZ, _l.YUMUSAK, _l.SUREKLI] },\n",
        "  's': {'index': 22, 'lower': 's', 'upper': 'S', 'tags': [_l.SESSIZ, _l.SERT, _l.SUREKLI, _l.KAYNASTIRMA] },\n",
        "  'ş': {'index': 23, 'lower': 'ş', 'upper': 'Ş', 'tags': [_l.SESSIZ, _l.SERT, _l.SUREKLI, _l.KAYNASTIRMA] },\n",
        "  't': {'index': 24, 'lower': 't', 'upper': 'T', 'tags': [_l.SESSIZ, _l.SERT, _l.SUREKSIZ] },\n",
        "  'u': {'index': 25, 'lower': 'u', 'upper': 'U', 'tags': [_l.SESLI, _l.KALIN, _l.YUVARLAK, _l.DAR] },\n",
        "  'ü': {'index': 26, 'lower': 'ü', 'upper': 'Ü', 'tags': [_l.SESLI, _l.INCE, _l.YUVARLAK, _l.DAR] },\n",
        "  'v': {'index': 27, 'lower': 'v', 'upper': 'V', 'tags': [_l.SESSIZ, _l.YUMUSAK, _l.SUREKLI] },\n",
        "  'y': {'index': 28, 'lower': 'y', 'upper': 'Y', 'tags': [_l.SESSIZ, _l.YUMUSAK, _l.SUREKLI, _l.KAYNASTIRMA] },\n",
        "  'z': {'index': 29, 'lower': 'z', 'upper': 'Z', 'tags': [_l.SESSIZ, _l.YUMUSAK, _l.SUREKLI] }\n",
        "}"
      ]
    },
    {
      "cell_type": "code",
      "execution_count": 211,
      "metadata": {},
      "outputs": [],
      "source": [
        "test = [l for l in ALPHABET if all(t in ALPHABET[l]['tags'] for t in [_l.SESLI, _l.DUZ])]"
      ]
    },
    {
      "cell_type": "code",
      "execution_count": 212,
      "metadata": {},
      "outputs": [
        {
          "data": {
            "text/plain": [
              "['a', 'e', 'ı', 'i']"
            ]
          },
          "execution_count": 212,
          "metadata": {},
          "output_type": "execute_result"
        }
      ],
      "source": [
        "test"
      ]
    },
    {
      "cell_type": "code",
      "execution_count": 213,
      "metadata": {},
      "outputs": [],
      "source": [
        "def FIND_LETTERS(tags):\n",
        "  return [ALPHABET[l] for l in ALPHABET if all(t in ALPHABET[l]['tags'] for t in tags)]"
      ]
    },
    {
      "cell_type": "code",
      "execution_count": 214,
      "metadata": {},
      "outputs": [],
      "source": [
        "def CHECK_LETTER(letter, tags):\n",
        "    return all(t in letter['tags'] for t in tags)"
      ]
    },
    {
      "cell_type": "code",
      "execution_count": 200,
      "metadata": {
        "id": "H2ZUCm7F2Fvx"
      },
      "outputs": [],
      "source": [
        "class Word:\n",
        "  def __init__(self, word, type):\n",
        "    self.letters, self.vowels, self.consonants = self.set_letters(word)\n",
        "    self.current = word\n",
        "    self.default = word\n",
        "    self.root = word\n",
        "    self.type = type\n",
        "\n",
        "  def _append(self, suffix):\n",
        "    self.current += suffix\n",
        "\n",
        "  def _apply_rule(self, type):\n",
        "    rules = [r for r in RULES if r['type'] == type.name]\n",
        "    for rule in rules:\n",
        "      if eval(' and '.join(rule['if']), {'self': self, '_l': _l, '_w': _w}):\n",
        "        for do in rule['do']:\n",
        "          eval(do, {'self': self, '_l': _l, '_w': _w})\n",
        "  \n",
        "  @staticmethod\n",
        "  def set_letters(word):\n",
        "    letters = [ALPHABET[l] for l in Word.lower(word)]\n",
        "    vowels = [dict(ALPHABET[l], **{'w_idx': i}) for i, l in enumerate(Word.lower(word)) if _l.SESLI in ALPHABET[l]['tags']]\n",
        "    consonants = [dict(ALPHABET[l], **{'w_idx': i}) for i, l in enumerate(Word.lower(word)) if _l.SESSIZ in ALPHABET[l]['tags']]\n",
        "    return letters, vowels, consonants\n",
        "  \n",
        "  @staticmethod\n",
        "  def lower(word):\n",
        "    return word.replace('İ','i').replace('I','ı').lower()\n",
        "  \n",
        "  @staticmethod\n",
        "  def upper(word):\n",
        "    return word.replace('i','İ').upper()\n"
      ]
    },
    {
      "cell_type": "code",
      "execution_count": 217,
      "metadata": {},
      "outputs": [
        {
          "data": {
            "text/plain": [
              "dict"
            ]
          },
          "execution_count": 217,
          "metadata": {},
          "output_type": "execute_result"
        }
      ],
      "source": [
        "type(ALPHABET['a'])"
      ]
    },
    {
      "cell_type": "code",
      "execution_count": 220,
      "metadata": {},
      "outputs": [
        {
          "data": {
            "text/plain": [
              "{'index': 1,\n",
              " 'lower': 'a',\n",
              " 'upper': 'A',\n",
              " 'tags': [<_l.SESLI: 1>, <_l.KALIN: 3>, <_l.DUZ: 5>, <_l.GENIS: 7>],\n",
              " 'w_idx': 3}"
            ]
          },
          "execution_count": 220,
          "metadata": {},
          "output_type": "execute_result"
        }
      ],
      "source": [
        "dict(ALPHABET['a'], **{'w_idx': 3})"
      ]
    },
    {
      "cell_type": "code",
      "execution_count": 131,
      "metadata": {
        "id": "n3iZDYUPTA-a"
      },
      "outputs": [],
      "source": [
        "w1 = Word(\"yap\", _w.FIIL)"
      ]
    },
    {
      "cell_type": "code",
      "execution_count": 201,
      "metadata": {},
      "outputs": [],
      "source": [
        "w2 = Word(\"uyu\", _w.FIIL)"
      ]
    },
    {
      "cell_type": "code",
      "execution_count": 202,
      "metadata": {},
      "outputs": [],
      "source": [
        "w2._apply_rule(_t.SIMDIKI1)"
      ]
    },
    {
      "cell_type": "code",
      "execution_count": 203,
      "metadata": {},
      "outputs": [
        {
          "data": {
            "text/plain": [
              "'uyuyor'"
            ]
          },
          "execution_count": 203,
          "metadata": {},
          "output_type": "execute_result"
        }
      ],
      "source": [
        "w2.current"
      ]
    },
    {
      "cell_type": "code",
      "execution_count": 117,
      "metadata": {
        "id": "GGkkuZj7Hy9H"
      },
      "outputs": [],
      "source": [
        "VERBS = ['açmak', 'almak', 'anlamak', 'aramak', 'atmak', 'ayırmak',\n",
        "         'bakmak', 'başlamak', 'beklemek', 'bilmek', 'bitmek', 'bölmek', 'bulmak',\n",
        "         'çalışmak', 'çarpmak', 'çevirmek', 'çıkarmak', 'çıkmak',\n",
        "         'değişmek', 'demek', 'dinlemek', 'doğmak', 'dönmek', 'durmak', 'duymak', 'düşünmek',\n",
        "         'eklemek', 'etmek', 'evlenmek',\n",
        "         'geçmek', 'gelmek', 'girmek', 'gitmek', 'görmek', 'gülmek',\n",
        "         'hazırlamak', 'hissetmek',\n",
        "         'içmek', 'inanmak', 'istemek', 'izlemek',\n",
        "         'kalmak', 'kapatmak', 'katılmak', 'kazanmak', 'kesmek', 'konuşmak', 'kullanmak', 'kurmak',\n",
        "         'okumak', 'olmak', 'oynamak', 'öğrenmek', 'ölmek',\n",
        "         'sağlamak', 'saymak', 'seçmek', 'sevmek', 'seyretmek', 'sormak', 'sürmek',\n",
        "         'taşımak', 'toplamak', 'toplanmak', 'tutmak',\n",
        "         'ulaşmak', 'unutmak', 'uygulamak', 'uyumak', 'üretmek',\n",
        "         'varmak', 'vermek', 'vurmak',\n",
        "         'yakmak', 'yapmak', 'yaratmak', 'yaşamak', 'yazmak', 'yemek', 'yürümek']"
      ]
    },
    {
      "cell_type": "code",
      "execution_count": 118,
      "metadata": {
        "id": "5OPjxAK8cLVU"
      },
      "outputs": [],
      "source": [
        "VERBS_FORM_1 = ['açıyor', 'alıyor', 'anlıyor', 'arıyor', 'atıyor', 'ayırıyor',\n",
        "                'bakıyor', 'başlıyor', 'bekliyor', 'biliyor', 'bitiyor', 'bölüyor', 'buluyor',\n",
        "                'çalışıyor', 'çarpıyor', 'çeviriyor', 'çıkarıyor', 'çıkıyor',\n",
        "                'değişiyor', 'diyor', 'dinliyor', 'doğuyor', 'dönüyor', 'duruyor', 'duyuyor', 'düşünüyor',\n",
        "                'ekliyor', 'ediyor', 'evleniyor',\n",
        "                'geçiyor', 'geliyor', 'giriyor', 'gidiyor', 'görüyor', 'gülüyor',\n",
        "                'hazırlıyor', 'hissediyor',\n",
        "                'içiyor', 'inanıyor', 'istiyor', 'izliyor',\n",
        "                'kalıyor', 'kapatıyor', 'katılıyor', 'kazanıyor', 'kesiyor', 'konuşuyor', 'kullanıyor', 'kuruyor',\n",
        "                'okuyor', 'oluyor', 'oynuyor', 'öğreniyor', 'ölüyor',\n",
        "                'sağlıyor', 'sayıyor', 'seçiyor', 'seviyor', 'seyrediyor', 'soruyor', 'sürüyor',\n",
        "                'taşıyor', 'topluyor', 'toplanıyor', 'tutuyor',\n",
        "                'ulaşıyor', 'unutuyor', 'uyguluyor', 'uyuyor', 'üretiyor',\n",
        "                'varıyor', 'veriyor', 'vuruyor',\n",
        "                'yakıyor', 'yapıyor', 'yaratıyor', 'yaşıyor', 'yazıyor', 'yiyor', 'yürüyor']"
      ]
    },
    {
      "cell_type": "code",
      "execution_count": 119,
      "metadata": {
        "id": "c3Cw6FN18uNP"
      },
      "outputs": [],
      "source": [
        "VERB_INFINITIVE_SUFFIXES = [\"mak\", \"mek\"]\n"
      ]
    },
    {
      "cell_type": "code",
      "execution_count": 120,
      "metadata": {
        "id": "qc74hkRuQ388"
      },
      "outputs": [],
      "source": [
        "present_continuous = []\n",
        "roots = []"
      ]
    },
    {
      "cell_type": "code",
      "execution_count": 121,
      "metadata": {
        "id": "EqKJ5nQWQ9MQ"
      },
      "outputs": [],
      "source": [
        "for verb, verb_pc in zip(VERBS, VERBS_FORM_1):\n",
        "  verb_root = verb\n",
        "  for suffix in VERB_INFINITIVE_SUFFIXES:\n",
        "    verb_root = verb_root.replace(suffix, '')\n",
        "  roots.append(verb_root)\n",
        "  present_continuous.append(verb_root + 'yor')"
      ]
    }
  ],
  "metadata": {
    "colab": {
      "provenance": []
    },
    "kernelspec": {
      "display_name": "Python 3",
      "name": "python3"
    },
    "language_info": {
      "codemirror_mode": {
        "name": "ipython",
        "version": 3
      },
      "file_extension": ".py",
      "mimetype": "text/x-python",
      "name": "python",
      "nbconvert_exporter": "python",
      "pygments_lexer": "ipython3",
      "version": "3.9.6"
    }
  },
  "nbformat": 4,
  "nbformat_minor": 0
}
