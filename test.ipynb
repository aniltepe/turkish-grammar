{
 "cells": [
  {
   "cell_type": "code",
   "execution_count": null,
   "metadata": {},
   "outputs": [],
   "source": [
    "RULES = [\n",
    "  {'conditions': [{'op1': [_l.SESLI, _l.DAR], 'op': _co.SUBSET, 'op2': 'last_letter_tags'}], 'actions': [{0: _m.EKLE, 1: 'yor'}]},\n",
    "  {'last_letter': [_l.SESSIZ], '_3': [{0: _m.DOLDUR, 1: 'yor'}, {0: _m.EKLE, 1: 'yor'}]},\n",
    "  {'last_letter': [_l.SESLI, _l.DUZ, _l.GENIS], '_3': []}\n",
    "]"
   ]
  },
  {
   "cell_type": "code",
   "execution_count": null,
   "metadata": {},
   "outputs": [],
   "source": [
    "# RULES = [\n",
    "#   {'_0': _w.FIIL, '_1': _vs.GENIS},\n",
    "#   {'_0': _w.FIIL, '_1': _vs.SIMDIKI, '_2': [_l.SESLI, _l.DAR], '_3': [{0: _m.EKLE, 1: 'yor'}]},\n",
    "#   {'_0': _w.FIIL, '_1': _vs.SIMDIKI, '_2': [_l.SESSIZ], '_3': [{0: _m.DOLDUR, 1: 'yor', 2: }, {0: _m.EKLE, 1: 'yor'}]},\n",
    "#   {'_0': _w.FIIL, '_1': _vs.SIMDIKI, '_2': [_l.SESLI, _l.DUZ, _l.GENIS], '_3': []}\n",
    "# ]"
   ]
  },
  {
   "cell_type": "code",
   "execution_count": null,
   "metadata": {},
   "outputs": [],
   "source": [
    "# SUFFIXES = {\n",
    "#   'COGULEKI': ['lar', 'ler'],\n",
    "#   'ILGIZAMIRI': ['ki'],\n",
    "#   'MASTAREKI': ['mak', 'mek']\n",
    "# }"
   ]
  },
  {
   "cell_type": "code",
   "execution_count": null,
   "metadata": {},
   "outputs": [],
   "source": [
    "_r = {\n",
    "    'word_type': 'self.type',\n",
    "    'last_letter': 'self.letters[-1][\\'index\\']',\n",
    "    'last_vowel': 'self.vowels[-1][\\'index\\']',\n",
    "    'last_consonant': 'self.consonants[-1][\\'index\\']',\n",
    "    'second_last_vowel': 'self.vowels[-2][\\'index\\']',\n",
    "    'last_letter_tags': 'self.letters[-1][\\'tags\\']',\n",
    "    'last_vowel_tags': 'self.vowels[-1][\\'tags\\']',\n",
    "    'last_consonant_tags': 'self.consonants[-1][\\'tags\\']',\n",
    "    'second_last_vowel_tags': 'self.vowels[-2][\\'tags\\']'\n",
    "}"
   ]
  },
  {
   "cell_type": "code",
   "execution_count": null,
   "metadata": {},
   "outputs": [],
   "source": [
    "YUMUSAMA_ISTISNA = ['hukuk','millet']\n",
    "\n",
    "def add_suffix(word, suffix):\n",
    "    orig_word = word\n",
    "    if _l.SESLI in ALPHABET[suffix[0]]['tags']:\n",
    "        if _l.SESLI in ALPHABET[word[-1]]['tags']:\n",
    "            print('kaynaştırma')\n",
    "        elif _l.SESSIZ in ALPHABET[word[-1]]['tags']:\n",
    "            if all(x in ALPHABET[word[-1]]['tags'] for x in [_l.SERT, _l.SUREKSIZ]):\n",
    "                if word not in YUMUSAMA_ISTISNA:\n",
    "                    word[-1] = word[-1].replace('k','ğ').replace('t','d').replace('ç','c').replace('p','b')\n",
    "                    word += suffix\n",
    "    elif _l.SESSIZ in ALPHABET[suffix[0]]['tags']:\n",
    "        if _l.SESLI in ALPHABET[word[-1]]['tags']:\n",
    "            print('kaynaştırma')\n",
    "        elif _l.SESSIZ in ALPHABET[word[-1]]['tags']:\n",
    "            print()"
   ]
  },
  {
   "cell_type": "code",
   "execution_count": null,
   "metadata": {},
   "outputs": [],
   "source": [
    "class Word:\n",
    "  def __init__(self, word, type):\n",
    "    self._set_letters(word)\n",
    "    self.current = word\n",
    "    self.default = word\n",
    "    self.root = word\n",
    "    self.type = type\n",
    "  def _set_letters(self, word):\n",
    "    self.letters = [ALPHABET[self._lower(l)] for l in word]\n",
    "    self.vowels = [ALPHABET[self._lower(l)] for l in word if _l.SESLI in ALPHABET[self._lower(l)]['tags']]\n",
    "    self.consonants = [ALPHABET[self._lower(l)] for l in word if _l.SESSIZ in ALPHABET[self._lower(l)]['tags']]\n",
    "  def _lower(self, word):\n",
    "    return word.replace('İ','i').replace('I','ı').lower()\n",
    "  def _upper(self, word):\n",
    "    return word.replace('i','İ').upper()\n"
   ]
  },
  {
   "cell_type": "code",
   "execution_count": null,
   "metadata": {},
   "outputs": [],
   "source": [
    "class Verb(Word):\n",
    "  def __init__(self, word):\n",
    "    super().__init__(word)\n",
    "    # self.suffixes = []\n",
    "    # while self.stemming(self.root)[1] != 'KÖK':\n",
    "    #   self.suffixes.append(self.stemming(self.root)[0])\n",
    "    #   self.root = self.stemming(self.root)[0]\n",
    "  def time_suffix(self, time):\n",
    "    time_rules = [rule for rule in RULES if rule['_1'] == time]\n",
    "    # for rule in time_rules:\n",
    "    #   if len([tag for tag in rule['_2'] if tag in self.letters[-1]]) == len(rule['_2']):\n",
    "        \n",
    "  # def stemming(word):\n",
    "  #   suffix_from_root = []\n",
    "  #   if word[-3:] in SUFFIXES['MASTAREKI']:\n",
    "  #     return word[:-3], 'MASTAREKI'\n",
    "  #   return word, 'KÖK'\n",
    "\n",
    "  \n",
    "\n",
    "  # def _lpply_rule(self, rule):\n"
   ]
  },
  {
   "cell_type": "code",
   "execution_count": null,
   "metadata": {},
   "outputs": [],
   "source": [
    "class _o(Enum): # operation\n",
    "  APPEND = 1\n",
    "  TRANSFORM = 2\n",
    "  DROP = 3"
   ]
  },
  {
   "cell_type": "code",
   "execution_count": null,
   "metadata": {},
   "outputs": [],
   "source": [
    "class _c(Enum): # condition\n",
    "    EQUAL = 1\n",
    "    NOTEQUAL = 2\n",
    "    SUBSET = 3"
   ]
  },
  {
   "cell_type": "code",
   "execution_count": null,
   "metadata": {},
   "outputs": [],
   "source": [
    "@staticmethod\n",
    "def set_letters(word):\n",
    "    letters = [[_a[lt] for lt in _a if _a[lt]['lower'] == l][0] for l in Word.lower(word)]\n",
    "    vowels = [dict(l, **{'w_idx': i}) for i, l in enumerate(letters) if _l.SESLI in l['tags']]\n",
    "    consonants = [dict(l, **{'w_idx': i}) for i, l in enumerate(letters) if _l.SESSIZ in l['tags']]\n",
    "    return letters, vowels, consonants"
   ]
  },
  {
   "cell_type": "code",
   "execution_count": null,
   "metadata": {},
   "outputs": [],
   "source": [
    "VERBS = ['açmak', 'almak', 'anlamak', 'aramak', 'atmak', 'ayırmak',\n",
    "         'bakmak', 'başlamak', 'beklemek', 'bilmek', 'bitmek', 'bölmek', 'bulmak',\n",
    "         'çalışmak', 'çarpmak', 'çevirmek', 'çıkarmak', 'çıkmak',\n",
    "         'değişmek', 'demek', 'dinlemek', 'doğmak', 'dönmek', 'durmak', 'duymak', 'düşünmek',\n",
    "         'eklemek', 'etmek', 'evlenmek',\n",
    "         'geçmek', 'gelmek', 'girmek', 'gitmek', 'görmek', 'gülmek',\n",
    "         'hazırlamak', 'hissetmek',\n",
    "         'içmek', 'inanmak', 'istemek', 'izlemek',\n",
    "         'kalmak', 'kapatmak', 'katılmak', 'kazanmak', 'kesmek', 'konuşmak', 'kullanmak', 'kurmak', 'kurumak',\n",
    "         'okumak', 'olmak', 'oynamak', 'öğrenmek', 'ölmek',\n",
    "         'sağlamak', 'saymak', 'seçmek', 'sevmek', 'seyretmek', 'sormak', 'sürmek',\n",
    "         'taşımak', 'toplamak', 'toplanmak', 'tutmak',\n",
    "         'ulaşmak', 'unutmak', 'uygulamak', 'uyumak', 'üretmek',\n",
    "         'varmak', 'vermek', 'vurmak',\n",
    "         'yakmak', 'yapmak', 'yaratmak', 'yaşamak', 'yazmak', 'yemek', 'yürümek']"
   ]
  },
  {
   "cell_type": "code",
   "execution_count": null,
   "metadata": {},
   "outputs": [],
   "source": [
    "VERBS_FORM_1 = ['açıyor', 'alıyor', 'anlıyor', 'arıyor', 'atıyor', 'ayırıyor',\n",
    "                'bakıyor', 'başlıyor', 'bekliyor', 'biliyor', 'bitiyor', 'bölüyor', 'buluyor',\n",
    "                'çalışıyor', 'çarpıyor', 'çeviriyor', 'çıkarıyor', 'çıkıyor',\n",
    "                'değişiyor', 'diyor', 'dinliyor', 'doğuyor', 'dönüyor', 'duruyor', 'duyuyor', 'düşünüyor',\n",
    "                'ekliyor', 'ediyor', 'evleniyor',\n",
    "                'geçiyor', 'geliyor', 'giriyor', 'gidiyor', 'görüyor', 'gülüyor',\n",
    "                'hazırlıyor', 'hissediyor',\n",
    "                'içiyor', 'inanıyor', 'istiyor', 'izliyor',\n",
    "                'kalıyor', 'kapatıyor', 'katılıyor', 'kazanıyaor', 'kesiyor', 'konuşuyor', 'kullanıyor', 'kuruyor', 'kuruyor',\n",
    "                'okuyor', 'oluyor', 'oynuyor', 'öğreniyor', 'ölüyor',\n",
    "                'sağlıyor', 'sayıyor', 'seçiyor', 'seviyor', 'seyrediyor', 'soruyor', 'sürüyor',\n",
    "                'taşıyor', 'topluyor', 'toplanıyor', 'tutuyor',\n",
    "                'ulaşıyor', 'unutuyor', 'uyguluyor', 'uyuyor', 'üretiyor',\n",
    "                'varıyor', 'veriyor', 'vuruyor',\n",
    "                'yakıyor', 'yapıyor', 'yaratıyor', 'yaşıyor', 'yazıyor', 'yiyor', 'yürüyor']"
   ]
  }
 ],
 "metadata": {
  "language_info": {
   "name": "python"
  }
 },
 "nbformat": 4,
 "nbformat_minor": 2
}
